{
 "cells": [
  {
   "cell_type": "code",
   "execution_count": null,
   "metadata": {},
   "outputs": [],
   "source": [
    "import pandas as pd\n",
    "\n",
    "# 读取CSV文件\n",
    "file_path = r\"D:\\database\\spillover\\gc-1m.csv\"\n",
    "df = pd.read_csv(file_path, header=None, names=[\"time\", \"Open\", \"High\", \"Low\", \"Close\", \"Volume\"])\n",
    "\n",
    "# 转换日期格式\n",
    "df[\"Date\"] = pd.to_datetime(df[\"Date\"])\n",
    "\n",
    "# 过滤数据\n",
    "start_date = \"2017-01-20 00:00:00\"\n",
    "end_date = \"2021-01-20\"\n",
    "df_filtered = df[(df[\"Date\"] >= start_date) & (df[\"Date\"] <= end_date)]\n",
    "\n",
    "# 保存文件\n",
    "save_path = r\"E:\\pythonProgram\\spillover\\gc-1m_filtered.csv\"\n",
    "df_filtered.to_csv(save_path, index=False)\n"
   ]
  },
  {
   "cell_type": "code",
   "execution_count": 2,
   "metadata": {},
   "outputs": [],
   "source": [
    "import pandas as pd\n",
    "\n",
    "# 读取 CSV 文件\n",
    "file_path = r\"D:\\database\\spillover\\gc-1m.csv\"\n",
    "df = pd.read_csv(file_path)"
   ]
  },
  {
   "cell_type": "code",
   "execution_count": 3,
   "metadata": {},
   "outputs": [
    {
     "name": "stdout",
     "output_type": "stream",
     "text": [
      "<bound method NDFrame.head of                 01/04/2007;17:00:00;671.1;671.2;671;671;33\n",
      "0               01/04/2007;17:01:00;671;671.2;671;671.2;11\n",
      "1                    01/04/2007;17:02:00;671;671;671;671;9\n",
      "2                    01/04/2007;17:03:00;671;671;671;671;5\n",
      "3           01/04/2007;17:04:00;671.1;671.1;671.1;671.1;15\n",
      "4           01/04/2007;17:05:00;671.1;671.1;670.8;670.8;16\n",
      "...                                                    ...\n",
      "6141787   11/03/2025;23:56:00;2921;2921.1;2920.7;2920.7;13\n",
      "6141788  11/03/2025;23:57:00;2920.7;2920.7;2920.7;2920.7;1\n",
      "6141789  11/03/2025;23:58:00;2920.6;2920.6;2920.5;2920.5;3\n",
      "6141790  11/03/2025;23:59:00;2920.2;2920.3;2920.1;2920....\n",
      "6141791  12/03/2025;00:00:00;2920.3;2920.7;2919.5;2919....\n",
      "\n",
      "[6141792 rows x 1 columns]>\n"
     ]
    }
   ],
   "source": [
    "print(df.head)"
   ]
  },
  {
   "cell_type": "code",
   "execution_count": null,
   "metadata": {},
   "outputs": [],
   "source": []
  }
 ],
 "metadata": {
  "kernelspec": {
   "display_name": "gca2",
   "language": "python",
   "name": "python3"
  },
  "language_info": {
   "codemirror_mode": {
    "name": "ipython",
    "version": 3
   },
   "file_extension": ".py",
   "mimetype": "text/x-python",
   "name": "python",
   "nbconvert_exporter": "python",
   "pygments_lexer": "ipython3",
   "version": "3.12.9"
  }
 },
 "nbformat": 4,
 "nbformat_minor": 2
}
